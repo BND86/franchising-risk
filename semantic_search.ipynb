{
 "cells": [
  {
   "cell_type": "code",
   "execution_count": 1,
   "metadata": {},
   "outputs": [
    {
     "name": "stdout",
     "output_type": "stream",
     "text": [
      "9\n"
     ]
    }
   ],
   "source": [
    "from langchain_community.document_loaders import PyPDFLoader\n",
    "\n",
    "file_path = \"Форма_Договор_коммерческой_концессии_франчайзинга_образе_1.pdf\"\n",
    "loader = PyPDFLoader(file_path)\n",
    "\n",
    "docs = loader.load()\n",
    "\n",
    "print(len(docs))"
   ]
  },
  {
   "cell_type": "code",
   "execution_count": 2,
   "metadata": {},
   "outputs": [
    {
     "name": "stdout",
     "output_type": "stream",
     "text": [
      "КонсультантПлюс | Готовое решение | Актуально на 17.03.2025\n",
      "Образец договора коммерческой концессии\n",
      "(франчайзинга)\n",
      "Применимые нормы: п. 1 ст. 1027, п. 1 ст. 1028 ГК РФ\n",
      "Образец подготовлен на примере с\n",
      "\n",
      "{'producer': 'КонсультантПлюс', 'creator': 'Версия 4024.00.50© 1992 - 2025 КонсультантПлюс Сборка 735869', 'creationdate': 'D:20250317134905', 'title': 'Форма: Договор коммерческой концессии (франчайзинга) (образец заполнения)\\n(КонсультантПлюс, 2025)', 'source': 'Форма_Договор_коммерческой_концессии_франчайзинга_образе_1.pdf', 'total_pages': 9, 'page': 0, 'page_label': '1'}\n"
     ]
    }
   ],
   "source": [
    "print(f\"{docs[0].page_content[:200]}\\n\")\n",
    "print(docs[0].metadata)"
   ]
  },
  {
   "cell_type": "code",
   "execution_count": 3,
   "metadata": {},
   "outputs": [
    {
     "data": {
      "text/plain": [
       "28"
      ]
     },
     "execution_count": 3,
     "metadata": {},
     "output_type": "execute_result"
    }
   ],
   "source": [
    "from langchain_text_splitters import RecursiveCharacterTextSplitter\n",
    "\n",
    "text_splitter = RecursiveCharacterTextSplitter(\n",
    "    chunk_size=1000, chunk_overlap=200, add_start_index=True\n",
    ")\n",
    "all_splits = text_splitter.split_documents(docs)\n",
    "\n",
    "len(all_splits)"
   ]
  },
  {
   "cell_type": "code",
   "execution_count": 4,
   "metadata": {},
   "outputs": [
    {
     "name": "stderr",
     "output_type": "stream",
     "text": [
      "e:\\dev\\franchising-risk\\venv\\Lib\\site-packages\\tqdm\\auto.py:21: TqdmWarning: IProgress not found. Please update jupyter and ipywidgets. See https://ipywidgets.readthedocs.io/en/stable/user_install.html\n",
      "  from .autonotebook import tqdm as notebook_tqdm\n"
     ]
    }
   ],
   "source": [
    "from langchain_huggingface import HuggingFaceEmbeddings\n",
    "\n",
    "embeddings = HuggingFaceEmbeddings(model_name=\"sentence-transformers/all-mpnet-base-v2\")"
   ]
  },
  {
   "cell_type": "code",
   "execution_count": 5,
   "metadata": {},
   "outputs": [
    {
     "name": "stdout",
     "output_type": "stream",
     "text": [
      "Generated vectors of length 768\n",
      "\n",
      "[0.061135388910770416, -0.001494561554864049, 0.008928265422582626, -0.03994758799672127, -0.02074180170893669, -0.02940932661294937, 0.02348395623266697, -0.0048781209625303745, -0.0025344397872686386, 0.037024907767772675]\n"
     ]
    }
   ],
   "source": [
    "vector_1 = embeddings.embed_query(all_splits[0].page_content)\n",
    "vector_2 = embeddings.embed_query(all_splits[1].page_content)\n",
    "\n",
    "assert len(vector_1) == len(vector_2)\n",
    "print(f\"Generated vectors of length {len(vector_1)}\\n\")\n",
    "print(vector_1[:10])"
   ]
  },
  {
   "cell_type": "code",
   "execution_count": 6,
   "metadata": {},
   "outputs": [],
   "source": [
    "from langchain_core.vectorstores import InMemoryVectorStore\n",
    "\n",
    "vector_store = InMemoryVectorStore(embeddings)"
   ]
  },
  {
   "cell_type": "code",
   "execution_count": 7,
   "metadata": {},
   "outputs": [],
   "source": [
    "ids = vector_store.add_documents(documents=all_splits)"
   ]
  },
  {
   "cell_type": "code",
   "execution_count": 11,
   "metadata": {},
   "outputs": [
    {
     "name": "stdout",
     "output_type": "stream",
     "text": [
      "page_content='Примечание:\n",
      "Если вы не укажете срок действия договора, он будет действовать 5 лет ( п. 4 ст. 1027 , п. 4 ст.\n",
      "1235 ГК РФ).\n",
      "3. Права и обязанности сторон\n",
      "3.1. Правообладатель передает Пользователю ноу-хау - сведения о способах ведения\n",
      "профессиональной деятельности ресторана \"Скатерть-самобранка\" путем отправки комплекта\n",
      "документов курьером на адрес Пользователя в течение 2 рабочих дней с момента подписания\n",
      "договора.\n",
      "3.2. Правообладатель обязуется оказывать пользователю техническое и консультативное\n",
      "содействие, в частности давать устные и письменные консультации:\n",
      "• по вопросам ремонта помещения для ресторана, в том числе в связи с необходимостью\n",
      "соблюдения санитарных норм;\n",
      "• оформлению разрешительной документации;\n",
      "• поставщикам оборудования;\n",
      "• дизайну помещений ресторана;\n",
      "• поставщикам продуктов;\n",
      "• IT-поддержке, поставщикам готовых технических решений;\n",
      "• маркетинговой поддержке, возможностям по увеличению выручки, посещаемости;\n",
      "• иным вопросам в связи с деятельностью ресторана.' metadata={'producer': 'КонсультантПлюс', 'creator': 'Версия 4024.00.50© 1992 - 2025 КонсультантПлюс Сборка 735869', 'creationdate': 'D:20250317134905', 'title': 'Форма: Договор коммерческой концессии (франчайзинга) (образец заполнения)\\n(КонсультантПлюс, 2025)', 'source': 'Форма_Договор_коммерческой_концессии_франчайзинга_образе_1.pdf', 'total_pages': 9, 'page': 2, 'page_label': '3', 'start_index': 0}\n"
     ]
    }
   ],
   "source": [
    "results = vector_store.similarity_search(\n",
    "    \"Условия досрочного отказа от договора\"\n",
    ")\n",
    "\n",
    "print(results[0])"
   ]
  },
  {
   "cell_type": "code",
   "execution_count": null,
   "metadata": {},
   "outputs": [
    {
     "data": {
      "text/plain": [
       "'Примечание:\\nЕсли вы не укажете срок действия договора, он будет действовать 5 лет ( п. 4 ст. 1027 , п. 4 ст.\\n1235 ГК РФ).\\n3. Права и обязанности сторон\\n3.1. Правообладатель передает Пользователю ноу-хау - сведения о способах ведения\\nпрофессиональной деятельности ресторана \"Скатерть-самобранка\" путем отправки комплекта\\nдокументов курьером на адрес Пользователя в течение 2 рабочих дней с момента подписания\\nдоговора.\\n3.2. Правообладатель обязуется оказывать пользователю техническое и консультативное\\nсодействие, в частности давать устные и письменные консультации:\\n• по вопросам ремонта помещения для ресторана, в том числе в связи с необходимостью\\nсоблюдения санитарных норм;\\n• оформлению разрешительной документации;\\n• поставщикам оборудования;\\n• дизайну помещений ресторана;\\n• поставщикам продуктов;\\n• IT-поддержке, поставщикам готовых технических решений;\\n• маркетинговой поддержке, возможностям по увеличению выручки, посещаемости;\\n• иным вопросам в связи с деятельностью ресторана.'"
      ]
     },
     "execution_count": 10,
     "metadata": {},
     "output_type": "execute_result"
    }
   ],
   "source": [
    "from typing import List\n",
    "\n",
    "from langchain_core.documents import Document\n",
    "from langchain_core.runnables import chain\n",
    "\n",
    "\n",
    "@chain\n",
    "def retriever(query: str) -> List[Document]:\n",
    "    return vector_store.similarity_search(query, k=1)\n",
    "\n",
    "\n",
    "retriever.batch(\n",
    "    [\n",
    "        \"Условия досрочного отказа от договора\",\n",
    "    ],\n",
    ")[0][0].page_content"
   ]
  }
 ],
 "metadata": {
  "kernelspec": {
   "display_name": "venv",
   "language": "python",
   "name": "python3"
  },
  "language_info": {
   "codemirror_mode": {
    "name": "ipython",
    "version": 3
   },
   "file_extension": ".py",
   "mimetype": "text/x-python",
   "name": "python",
   "nbconvert_exporter": "python",
   "pygments_lexer": "ipython3",
   "version": "3.12.7"
  }
 },
 "nbformat": 4,
 "nbformat_minor": 2
}
